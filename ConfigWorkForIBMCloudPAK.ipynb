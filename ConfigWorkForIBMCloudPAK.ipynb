{
 "cells": [
  {
   "cell_type": "code",
   "execution_count": 1,
   "id": "20880580",
   "metadata": {},
   "outputs": [],
   "source": [
    "import pandas as pd\n",
    "import numpy as np\n",
    "import random \n",
    "import os\n",
    "\n",
    "\n",
    "os.getcwd()\n",
    "os.chdir('/home/meric/Desktop/csv')\n"
   ]
  },
  {
   "cell_type": "code",
   "execution_count": 2,
   "id": "2687da4b",
   "metadata": {},
   "outputs": [],
   "source": [
    "import configparser as cf\n",
    "\n",
    "config = cf.ConfigParser()\n",
    "#config.readfp(open(r'config.ini'))\n",
    "config.read_file(open(r'config.ini'))\n",
    "path1 = config.get('My Section', 'path1')\n",
    "path2 = config.get('My Section', 'path2')\n",
    "path3 = config.get('My Section', 'path3')"
   ]
  },
  {
   "cell_type": "code",
   "execution_count": 3,
   "id": "5f360430",
   "metadata": {},
   "outputs": [
    {
     "data": {
      "text/plain": [
       "'D:\\\\test1\\\\first'"
      ]
     },
     "execution_count": 3,
     "metadata": {},
     "output_type": "execute_result"
    }
   ],
   "source": [
    "path1"
   ]
  },
  {
   "cell_type": "code",
   "execution_count": 13,
   "id": "3b150f75",
   "metadata": {},
   "outputs": [],
   "source": [
    "import cryptocode\n",
    "\n",
    "encoded = cryptocode.encrypt(\"mystring\",\"mypassword\")\n",
    "## And then to decode it:\n",
    "decoded = cryptocode.decrypt(encoded, \"mypassword\")"
   ]
  },
  {
   "cell_type": "code",
   "execution_count": 14,
   "id": "3234a772",
   "metadata": {},
   "outputs": [
    {
     "data": {
      "text/plain": [
       "'Kkum0i59Hj8=*hFfjVq9M/ZxexSXkamKrcQ==*AI2Hyb/V1LJSogikcP1Mrg==*MUpsMVygjU7jN0tpiut1hA=='"
      ]
     },
     "execution_count": 14,
     "metadata": {},
     "output_type": "execute_result"
    }
   ],
   "source": [
    "encoded"
   ]
  },
  {
   "cell_type": "code",
   "execution_count": 15,
   "id": "c21e0072",
   "metadata": {},
   "outputs": [
    {
     "data": {
      "text/plain": [
       "'mystring'"
      ]
     },
     "execution_count": 15,
     "metadata": {},
     "output_type": "execute_result"
    }
   ],
   "source": [
    "decoded"
   ]
  }
 ],
 "metadata": {
  "kernelspec": {
   "display_name": "Python 3",
   "language": "python",
   "name": "python3"
  },
  "language_info": {
   "codemirror_mode": {
    "name": "ipython",
    "version": 3
   },
   "file_extension": ".py",
   "mimetype": "text/x-python",
   "name": "python",
   "nbconvert_exporter": "python",
   "pygments_lexer": "ipython3",
   "version": "3.8.8"
  }
 },
 "nbformat": 4,
 "nbformat_minor": 5
}
