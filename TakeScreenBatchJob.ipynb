{
 "cells": [
  {
   "cell_type": "code",
   "execution_count": 18,
   "id": "99f302c5",
   "metadata": {},
   "outputs": [
    {
     "data": {
      "text/plain": [
       "['Osman.png', 'Screen.png', 'test belgesi.txt']"
      ]
     },
     "execution_count": 18,
     "metadata": {},
     "output_type": "execute_result"
    }
   ],
   "source": [
    "import os\n",
    "\n",
    "os.chdir('C:\\\\Pics')\n",
    "os.listdir()"
   ]
  },
  {
   "cell_type": "code",
   "execution_count": 19,
   "id": "7253b338",
   "metadata": {},
   "outputs": [],
   "source": [
    "def FncTakeScreen(url, FileName):\n",
    "    from selenium import webdriver\n",
    "    from time import sleep\n",
    "    driver = webdriver.Chrome()\n",
    "    driver.get(url)\n",
    "    sleep(1)\n",
    "    driver.get_screenshot_as_file(FileName)\n",
    "    driver.quit()\n",
    "    print(\"end...\")"
   ]
  },
  {
   "cell_type": "code",
   "execution_count": 3,
   "id": "f518954b",
   "metadata": {},
   "outputs": [
    {
     "name": "stdout",
     "output_type": "stream",
     "text": [
      "end...\n"
     ]
    }
   ],
   "source": [
    "FncTakeScreen(\"https://www.python.org\",\"Osman.png\")    "
   ]
  },
  {
   "cell_type": "code",
   "execution_count": 26,
   "id": "bf6d4972",
   "metadata": {},
   "outputs": [],
   "source": [
    "def FncSendMail(receiver,url,FileName,Subject):\n",
    "    import smtplib\n",
    "    from io import open\n",
    "    import codecs\n",
    "    from email.mime.multipart import MIMEMultipart\n",
    "    from email.mime.text import MIMEText\n",
    "    from email.mime.image import MIMEImage\n",
    "\n",
    "    from_addr=\"merictozduman@hotmail.com\"\n",
    "    to_addr=receiver\n",
    "\n",
    "    #msg = MIMEMultipart('alternative')\n",
    "    msg = MIMEMultipart('related')\n",
    "    msg['Subject'] = Subject\n",
    "    msg['From'] = from_addr\n",
    "    msg['To'] = to_addr\n",
    "\n",
    "    #text = MIMEText('<a href=\"+url+\">Here a link to an awesome dev community!</a><br/><br/><img src=\"cid:image1\">', 'html')\n",
    "    text = MIMEText('<a href='+url+'>Rapora tıklayınız...</a><br/><br/><img src=\"cid:image1\">', 'html')\n",
    "    msg.attach(text)\n",
    "    \n",
    "    #print(FileName)\n",
    "    img_data = open(FileName,'rb').read()  # read the image binary data\n",
    "    \n",
    "    image = MIMEImage(img_data,'png')\n",
    "    #image = MIMEImage(FileName)\n",
    "\n",
    "    # Define the image's ID as referenced in the HTML body above\n",
    "    image.add_header('Content-ID', '<image1>')\n",
    "    msg.attach(image)\n",
    "\n",
    "    s = smtplib.SMTP('smtp-relay.sendinblue.com', '587')\n",
    "    s.login(from_addr, \"TJE5Isw8QnN6WZxO\")\n",
    "    s.sendmail(from_addr, to_addr, msg.as_string())\n",
    "    s.quit()\n",
    "\n",
    "\n",
    "#to_addr,link,resimadi"
   ]
  },
  {
   "cell_type": "code",
   "execution_count": 27,
   "id": "df375e8a",
   "metadata": {},
   "outputs": [],
   "source": [
    "FncSendMail(\"meric.tozduman@gmail.com\",\"https://www.python.org\",\"Osman.png\",\"TestSubject\")"
   ]
  },
  {
   "cell_type": "code",
   "execution_count": 9,
   "id": "22934ade",
   "metadata": {},
   "outputs": [
    {
     "name": "stdout",
     "output_type": "stream",
     "text": [
      "Collecting openpyxl\n",
      "  Using cached openpyxl-3.1.2-py2.py3-none-any.whl (249 kB)\n",
      "Collecting et-xmlfile\n",
      "  Using cached et_xmlfile-1.1.0-py3-none-any.whl (4.7 kB)\n",
      "Installing collected packages: et-xmlfile, openpyxl\n",
      "Successfully installed et-xmlfile-1.1.0 openpyxl-3.1.2\n"
     ]
    }
   ],
   "source": [
    "!pip install openpyxl"
   ]
  },
  {
   "cell_type": "code",
   "execution_count": 21,
   "id": "2a7ca3bc",
   "metadata": {},
   "outputs": [
    {
     "data": {
      "text/html": [
       "<div>\n",
       "<style scoped>\n",
       "    .dataframe tbody tr th:only-of-type {\n",
       "        vertical-align: middle;\n",
       "    }\n",
       "\n",
       "    .dataframe tbody tr th {\n",
       "        vertical-align: top;\n",
       "    }\n",
       "\n",
       "    .dataframe thead th {\n",
       "        text-align: right;\n",
       "    }\n",
       "</style>\n",
       "<table border=\"1\" class=\"dataframe\">\n",
       "  <thead>\n",
       "    <tr style=\"text-align: right;\">\n",
       "      <th></th>\n",
       "      <th>Id</th>\n",
       "      <th>MailAddress</th>\n",
       "      <th>UrlAddress</th>\n",
       "      <th>ReportName</th>\n",
       "    </tr>\n",
       "  </thead>\n",
       "  <tbody>\n",
       "    <tr>\n",
       "      <th>0</th>\n",
       "      <td>1</td>\n",
       "      <td>merictozduman@gmail.com</td>\n",
       "      <td>https://www.python.org</td>\n",
       "      <td>py site</td>\n",
       "    </tr>\n",
       "    <tr>\n",
       "      <th>1</th>\n",
       "      <td>2</td>\n",
       "      <td>merictozduman@gmail.com</td>\n",
       "      <td>https://www.sahibinden.com</td>\n",
       "      <td>sahibinden site</td>\n",
       "    </tr>\n",
       "  </tbody>\n",
       "</table>\n",
       "</div>"
      ],
      "text/plain": [
       "   Id              MailAddress                  UrlAddress       ReportName\n",
       "0   1  merictozduman@gmail.com      https://www.python.org          py site\n",
       "1   2  merictozduman@gmail.com  https://www.sahibinden.com  sahibinden site"
      ]
     },
     "execution_count": 21,
     "metadata": {},
     "output_type": "execute_result"
    }
   ],
   "source": [
    "import pandas as pd\n",
    "dataset=pd.read_excel('C:\\\\Users\\damndamn\\Documents\\Lists.xlsx',sheet_name='Sheet1')\n",
    "dataset"
   ]
  },
  {
   "cell_type": "code",
   "execution_count": 29,
   "id": "f8005b8b",
   "metadata": {},
   "outputs": [
    {
     "name": "stdout",
     "output_type": "stream",
     "text": [
      "0 merictozduman@gmail.com https://www.python.org py site\n",
      "end...\n",
      "1 merictozduman@gmail.com https://www.sahibinden.com sahibinden site\n",
      "end...\n"
     ]
    }
   ],
   "source": [
    "for i in range(len(dataset)):\n",
    "    print(i,dataset.loc[i, \"MailAddress\"], dataset.loc[i, \"UrlAddress\"], dataset.loc[i, \"ReportName\"])\n",
    "    FncTakeScreen(dataset.loc[i, \"UrlAddress\"],dataset.loc[i, \"ReportName\"]+\".png\") \n",
    "    FncSendMail(dataset.loc[i, \"MailAddress\"],dataset.loc[i, \"UrlAddress\"],dataset.loc[i, \"ReportName\"]+\".png\",dataset.loc[i, \"ReportName\"])\n",
    "    \n",
    "    "
   ]
  },
  {
   "cell_type": "code",
   "execution_count": null,
   "id": "c86dc11c",
   "metadata": {},
   "outputs": [],
   "source": []
  }
 ],
 "metadata": {
  "kernelspec": {
   "display_name": "Python 3 (ipykernel)",
   "language": "python",
   "name": "python3"
  },
  "language_info": {
   "codemirror_mode": {
    "name": "ipython",
    "version": 3
   },
   "file_extension": ".py",
   "mimetype": "text/x-python",
   "name": "python",
   "nbconvert_exporter": "python",
   "pygments_lexer": "ipython3",
   "version": "3.10.4"
  }
 },
 "nbformat": 4,
 "nbformat_minor": 5
}
